{
  "nbformat": 4,
  "nbformat_minor": 0,
  "metadata": {
    "colab": {
      "provenance": [],
      "authorship_tag": "ABX9TyOrGcuWCwPyiYUcO7RHH3Ze",
      "include_colab_link": true
    },
    "kernelspec": {
      "name": "python3",
      "display_name": "Python 3"
    },
    "language_info": {
      "name": "python"
    }
  },
  "cells": [
    {
      "cell_type": "markdown",
      "metadata": {
        "id": "view-in-github",
        "colab_type": "text"
      },
      "source": [
        "<a href=\"https://colab.research.google.com/github/ThiruRJST/AgeGenderMultiTaskModel/blob/main/Understanding_Vision_Transformers.ipynb\" target=\"_parent\"><img src=\"https://colab.research.google.com/assets/colab-badge.svg\" alt=\"Open In Colab\"/></a>"
      ]
    },
    {
      "cell_type": "code",
      "source": [
        "!pip3 install einops"
      ],
      "metadata": {
        "colab": {
          "base_uri": "https://localhost:8080/"
        },
        "id": "-_EaQc4ThpVq",
        "outputId": "7e559da0-7c14-4863-8e03-34d17e00915a"
      },
      "execution_count": 2,
      "outputs": [
        {
          "output_type": "stream",
          "name": "stdout",
          "text": [
            "Collecting einops\n",
            "  Downloading einops-0.7.0-py3-none-any.whl (44 kB)\n",
            "\u001b[?25l     \u001b[90m━━━━━━━━━━━━━━━━━━━━━━━━━━━━━━━━━━━━━━━━\u001b[0m \u001b[32m0.0/44.6 kB\u001b[0m \u001b[31m?\u001b[0m eta \u001b[36m-:--:--\u001b[0m\r\u001b[2K     \u001b[90m━━━━━━━━━━━━━━━━━━━━━━━━━━━━━━━━━━━━━━━━\u001b[0m \u001b[32m44.6/44.6 kB\u001b[0m \u001b[31m1.4 MB/s\u001b[0m eta \u001b[36m0:00:00\u001b[0m\n",
            "\u001b[?25hInstalling collected packages: einops\n",
            "Successfully installed einops-0.7.0\n"
          ]
        }
      ]
    },
    {
      "cell_type": "code",
      "execution_count": 3,
      "metadata": {
        "id": "qKf7mHkNhajs"
      },
      "outputs": [],
      "source": [
        "import torch\n",
        "from torch import nn\n",
        "\n",
        "from einops import rearrange, repeat\n",
        "from einops.layers.torch import Rearrange"
      ]
    },
    {
      "cell_type": "markdown",
      "source": [
        "## Understanding how Rearrange layer works to calculate the patch embedding.\n",
        "\n",
        "1. The 4-Dim tensor of an image is converted to 3-Dim tensor such that it follows the:\n",
        "  (Batch_size, embedding, patch_dim)\n",
        "\n",
        "2. For example,\n",
        "    If there is a image tensor of shape (1,3,512,512) and the patch size is 32. The patch dim would be 32*32*3(num_channels in the image) which will be 3072.\n",
        "\n",
        "    The output patch embedding shape will be (1, (1*3*512*512)/patch_dim, patch_dim) which is (1, 256, 3072)."
      ],
      "metadata": {
        "id": "kCEzefwel5Lj"
      }
    },
    {
      "cell_type": "code",
      "source": [
        "image_height = 512\n",
        "image_width = 512\n",
        "patch_height = 32\n",
        "patch_width = 32\n",
        "channels = 3\n",
        "dim = 384"
      ],
      "metadata": {
        "id": "fv0Rf1srh-B9"
      },
      "execution_count": 46,
      "outputs": []
    },
    {
      "cell_type": "code",
      "source": [
        "num_patches = (image_height // patch_height) * (image_width // patch_width)\n",
        "patch_dim = channels * patch_height * patch_width\n",
        "\n",
        "patch_embedding = nn.Sequential(\n",
        "            Rearrange('b c (h p1) (w p2) -> b (h w) (p1 p2 c)', p1 = patch_height, p2 = patch_width),\n",
        "            nn.LayerNorm(patch_dim),\n",
        "            nn.Linear(patch_dim, dim),\n",
        "            nn.LayerNorm(dim),\n",
        ")"
      ],
      "metadata": {
        "id": "BvqsMrmdhiX0"
      },
      "execution_count": 47,
      "outputs": []
    },
    {
      "cell_type": "code",
      "source": [
        "image = torch.randn(1,channels,image_height, image_width)"
      ],
      "metadata": {
        "id": "kMVAqfuIiQUK"
      },
      "execution_count": 48,
      "outputs": []
    },
    {
      "cell_type": "code",
      "source": [
        "image.shape"
      ],
      "metadata": {
        "colab": {
          "base_uri": "https://localhost:8080/"
        },
        "id": "U_A5TdnciW5S",
        "outputId": "e1e61807-c8da-4437-969d-f1f4321d4173"
      },
      "execution_count": 49,
      "outputs": [
        {
          "output_type": "execute_result",
          "data": {
            "text/plain": [
              "torch.Size([1, 3, 512, 512])"
            ]
          },
          "metadata": {},
          "execution_count": 49
        }
      ]
    },
    {
      "cell_type": "code",
      "source": [
        "for i, layers in enumerate(patch_embedding):\n",
        "  if i == 0:\n",
        "    output = layers(image)"
      ],
      "metadata": {
        "id": "ZRV1pkfYiYHZ"
      },
      "execution_count": 50,
      "outputs": []
    },
    {
      "cell_type": "code",
      "source": [
        "output.shape"
      ],
      "metadata": {
        "colab": {
          "base_uri": "https://localhost:8080/"
        },
        "id": "F7ZdVt_Riog5",
        "outputId": "a8e38288-18cb-4174-c8c8-d1d39355dc18"
      },
      "execution_count": 51,
      "outputs": [
        {
          "output_type": "execute_result",
          "data": {
            "text/plain": [
              "torch.Size([1, 256, 3072])"
            ]
          },
          "metadata": {},
          "execution_count": 51
        }
      ]
    },
    {
      "cell_type": "code",
      "source": [],
      "metadata": {
        "id": "efcbwKREltJ3"
      },
      "execution_count": null,
      "outputs": []
    }
  ]
}